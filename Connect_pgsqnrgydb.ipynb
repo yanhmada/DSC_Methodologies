{
 "cells": [
  {
   "cell_type": "code",
   "execution_count": 1,
   "metadata": {},
   "outputs": [],
   "source": [
    "#After installing psycopg2 we import the library\n",
    "import psycopg2 as pg2\n"
   ]
  },
  {
   "cell_type": "code",
   "execution_count": 2,
   "metadata": {},
   "outputs": [],
   "source": [
    "#Sec pss\n",
    "#hidden"
   ]
  },
  {
   "cell_type": "code",
   "execution_count": 3,
   "metadata": {},
   "outputs": [],
   "source": [
    "conn = pg2.connect(database='Energy_demand', user = 'postgres', password = sec)"
   ]
  },
  {
   "cell_type": "code",
   "execution_count": 4,
   "metadata": {},
   "outputs": [],
   "source": [
    "curr = conn.cursor()"
   ]
  },
  {
   "cell_type": "code",
   "execution_count": 5,
   "metadata": {},
   "outputs": [],
   "source": [
    "curr.execute('SELECT * FROM encities') #we test with a small reference table of cities"
   ]
  },
  {
   "cell_type": "code",
   "execution_count": 6,
   "metadata": {},
   "outputs": [
    {
     "data": {
      "text/plain": [
       "[(1, 1, 'Caborca'),\n",
       " (2, 1, 'Guaymas'),\n",
       " (3, 1, 'Hermosillo'),\n",
       " (4, 1, 'Navojoa'),\n",
       " (5, 1, 'Nogales'),\n",
       " (6, 1, 'Obregon')]"
      ]
     },
     "execution_count": 6,
     "metadata": {},
     "output_type": "execute_result"
    }
   ],
   "source": [
    "curr.fetchall() #Current data includes 6 cities from Sonora, all StateID is referenced to Sonora"
   ]
  },
  {
   "cell_type": "code",
   "execution_count": 7,
   "metadata": {},
   "outputs": [
    {
     "data": {
      "text/plain": [
       "<function connection.close>"
      ]
     },
     "execution_count": 7,
     "metadata": {},
     "output_type": "execute_result"
    }
   ],
   "source": [
    "#to close the connection\n",
    "conn.close"
   ]
  }
 ],
 "metadata": {
  "kernelspec": {
   "display_name": "Python 3.8.13 ('nrgy1')",
   "language": "python",
   "name": "python3"
  },
  "language_info": {
   "codemirror_mode": {
    "name": "ipython",
    "version": 3
   },
   "file_extension": ".py",
   "mimetype": "text/x-python",
   "name": "python",
   "nbconvert_exporter": "python",
   "pygments_lexer": "ipython3",
   "version": "3.8.13"
  },
  "orig_nbformat": 4,
  "vscode": {
   "interpreter": {
    "hash": "ed2e2a0415bd5350151cd939f9c3e3fa92c59c92b650c54a8bc7d1eb0967a683"
   }
  }
 },
 "nbformat": 4,
 "nbformat_minor": 2
}
